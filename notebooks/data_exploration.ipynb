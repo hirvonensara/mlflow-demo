{
 "cells": [
  {
   "cell_type": "code",
   "execution_count": 4,
   "metadata": {},
   "outputs": [],
   "source": [
    "import pandas as pd\n",
    "import numpy as np\n",
    "import matplotlib.pyplot as plt\n",
    "from matplotlib.dates import AutoDateLocator, AutoDateFormatter"
   ]
  },
  {
   "cell_type": "code",
   "execution_count": 2,
   "metadata": {},
   "outputs": [],
   "source": [
    "df_heat = pd.read_csv('../data/raw/kymp_heat.csv')"
   ]
  },
  {
   "cell_type": "code",
   "execution_count": 4,
   "metadata": {},
   "outputs": [
    {
     "data": {
      "text/html": [
       "<div>\n",
       "<style scoped>\n",
       "    .dataframe tbody tr th:only-of-type {\n",
       "        vertical-align: middle;\n",
       "    }\n",
       "\n",
       "    .dataframe tbody tr th {\n",
       "        vertical-align: top;\n",
       "    }\n",
       "\n",
       "    .dataframe thead th {\n",
       "        text-align: right;\n",
       "    }\n",
       "</style>\n",
       "<table border=\"1\" class=\"dataframe\">\n",
       "  <thead>\n",
       "    <tr style=\"text-align: right;\">\n",
       "      <th></th>\n",
       "      <th>timestamp</th>\n",
       "      <th>reportingGroup</th>\n",
       "      <th>locationName</th>\n",
       "      <th>value</th>\n",
       "      <th>unit</th>\n",
       "    </tr>\n",
       "  </thead>\n",
       "  <tbody>\n",
       "    <tr>\n",
       "      <th>0</th>\n",
       "      <td>2021-01-01T00:00:00</td>\n",
       "      <td>Heat</td>\n",
       "      <td>6829 Helsingin Kalasataman Kymppi Koy, 66440 K...</td>\n",
       "      <td>290</td>\n",
       "      <td>kWh</td>\n",
       "    </tr>\n",
       "    <tr>\n",
       "      <th>1</th>\n",
       "      <td>2021-01-01T01:00:00</td>\n",
       "      <td>Heat</td>\n",
       "      <td>6829 Helsingin Kalasataman Kymppi Koy, 66440 K...</td>\n",
       "      <td>550</td>\n",
       "      <td>kWh</td>\n",
       "    </tr>\n",
       "    <tr>\n",
       "      <th>2</th>\n",
       "      <td>2021-01-01T02:00:00</td>\n",
       "      <td>Heat</td>\n",
       "      <td>6829 Helsingin Kalasataman Kymppi Koy, 66440 K...</td>\n",
       "      <td>640</td>\n",
       "      <td>kWh</td>\n",
       "    </tr>\n",
       "    <tr>\n",
       "      <th>3</th>\n",
       "      <td>2021-01-01T03:00:00</td>\n",
       "      <td>Heat</td>\n",
       "      <td>6829 Helsingin Kalasataman Kymppi Koy, 66440 K...</td>\n",
       "      <td>640</td>\n",
       "      <td>kWh</td>\n",
       "    </tr>\n",
       "    <tr>\n",
       "      <th>4</th>\n",
       "      <td>2021-01-01T04:00:00</td>\n",
       "      <td>Heat</td>\n",
       "      <td>6829 Helsingin Kalasataman Kymppi Koy, 66440 K...</td>\n",
       "      <td>620</td>\n",
       "      <td>kWh</td>\n",
       "    </tr>\n",
       "  </tbody>\n",
       "</table>\n",
       "</div>"
      ],
      "text/plain": [
       "             timestamp reportingGroup  \\\n",
       "0  2021-01-01T00:00:00           Heat   \n",
       "1  2021-01-01T01:00:00           Heat   \n",
       "2  2021-01-01T02:00:00           Heat   \n",
       "3  2021-01-01T03:00:00           Heat   \n",
       "4  2021-01-01T04:00:00           Heat   \n",
       "\n",
       "                                        locationName  value unit  \n",
       "0  6829 Helsingin Kalasataman Kymppi Koy, 66440 K...    290  kWh  \n",
       "1  6829 Helsingin Kalasataman Kymppi Koy, 66440 K...    550  kWh  \n",
       "2  6829 Helsingin Kalasataman Kymppi Koy, 66440 K...    640  kWh  \n",
       "3  6829 Helsingin Kalasataman Kymppi Koy, 66440 K...    640  kWh  \n",
       "4  6829 Helsingin Kalasataman Kymppi Koy, 66440 K...    620  kWh  "
      ]
     },
     "execution_count": 4,
     "metadata": {},
     "output_type": "execute_result"
    }
   ],
   "source": [
    "df_heat.head()"
   ]
  },
  {
   "cell_type": "code",
   "execution_count": 5,
   "metadata": {},
   "outputs": [
    {
     "data": {
      "text/plain": [
       "(23830, 5)"
      ]
     },
     "execution_count": 5,
     "metadata": {},
     "output_type": "execute_result"
    }
   ],
   "source": [
    "df_heat.shape"
   ]
  },
  {
   "cell_type": "code",
   "execution_count": 8,
   "metadata": {},
   "outputs": [
    {
     "data": {
      "text/plain": [
       "timestamp         datetime64[ns]\n",
       "reportingGroup            object\n",
       "locationName              object\n",
       "value                      int64\n",
       "unit                      object\n",
       "dtype: object"
      ]
     },
     "execution_count": 8,
     "metadata": {},
     "output_type": "execute_result"
    }
   ],
   "source": [
    "df_heat.dtypes"
   ]
  },
  {
   "cell_type": "code",
   "execution_count": 7,
   "metadata": {},
   "outputs": [],
   "source": [
    "df_heat['timestamp'] = pd.to_datetime(df_heat['timestamp'])"
   ]
  },
  {
   "cell_type": "code",
   "execution_count": 10,
   "metadata": {},
   "outputs": [
    {
     "data": {
      "image/png": "[encoded data removed]",
      "text/plain": [
       "<Figure size 640x480 with 1 Axes>"
      ]
     },
     "metadata": {},
     "output_type": "display_data"
    }
   ],
   "source": [
    "plt.plot(df_heat['timestamp'], df_heat['value'])\n",
    "ax = plt.gca()\n",
    "locator = AutoDateLocator(tz=\"UTC\", maxticks=10)\n",
    "ax.xaxis.set_major_locator(locator)\n",
    "ax.xaxis.set_major_formatter(AutoDateFormatter(locator))\n",
    "plt.xticks(rotation=45)\n",
    "plt.show()"
   ]
  }
 ],
 "metadata": {
  "kernelspec": {
   "display_name": "mlflow_env",
   "language": "python",
   "name": "python3"
  },
  "language_info": {
   "codemirror_mode": {
    "name": "ipython",
    "version": 3
   },
   "file_extension": ".py",
   "mimetype": "text/x-python",
   "name": "python",
   "nbconvert_exporter": "python",
   "pygments_lexer": "ipython3",
   "version": "3.11.5"
  },
  "orig_nbformat": 4
 },
 "nbformat": 4,
 "nbformat_minor": 2
}
